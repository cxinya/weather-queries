{
  "cells": [
    {
      "cell_type": "markdown",
      "source": [
        "## Data engineering"
      ],
      "metadata": {}
    },
    {
      "cell_type": "code",
      "source": [
        "import pandas as pd"
      ],
      "outputs": [],
      "execution_count": 3,
      "metadata": {
        "collapsed": false,
        "outputHidden": false,
        "inputHidden": false
      }
    },
    {
      "cell_type": "code",
      "source": [
        "meas = pd.read_csv(\"Resources/hawaii_measurements.csv\")\n",
        "# Change temp var name to be more intuitive\n",
        "meas.rename(columns = {\"tobs\": \"temps\"})\n",
        "meas.head()"
      ],
      "outputs": [
        {
          "output_type": "execute_result",
          "execution_count": 4,
          "data": {
            "text/plain": [
              "       station        date  prcp  tobs\n",
              "0  USC00519397  2010-01-01  0.08    65\n",
              "1  USC00519397  2010-01-02  0.00    63\n",
              "2  USC00519397  2010-01-03  0.00    74\n",
              "3  USC00519397  2010-01-04  0.00    76\n",
              "4  USC00519397  2010-01-06   NaN    73"
            ],
            "text/html": [
              "<div>\n",
              "<style>\n",
              "    .dataframe thead tr:only-child th {\n",
              "        text-align: right;\n",
              "    }\n",
              "\n",
              "    .dataframe thead th {\n",
              "        text-align: left;\n",
              "    }\n",
              "\n",
              "    .dataframe tbody tr th {\n",
              "        vertical-align: top;\n",
              "    }\n",
              "</style>\n",
              "<table border=\"1\" class=\"dataframe\">\n",
              "  <thead>\n",
              "    <tr style=\"text-align: right;\">\n",
              "      <th></th>\n",
              "      <th>station</th>\n",
              "      <th>date</th>\n",
              "      <th>prcp</th>\n",
              "      <th>tobs</th>\n",
              "    </tr>\n",
              "  </thead>\n",
              "  <tbody>\n",
              "    <tr>\n",
              "      <th>0</th>\n",
              "      <td>USC00519397</td>\n",
              "      <td>2010-01-01</td>\n",
              "      <td>0.08</td>\n",
              "      <td>65</td>\n",
              "    </tr>\n",
              "    <tr>\n",
              "      <th>1</th>\n",
              "      <td>USC00519397</td>\n",
              "      <td>2010-01-02</td>\n",
              "      <td>0.00</td>\n",
              "      <td>63</td>\n",
              "    </tr>\n",
              "    <tr>\n",
              "      <th>2</th>\n",
              "      <td>USC00519397</td>\n",
              "      <td>2010-01-03</td>\n",
              "      <td>0.00</td>\n",
              "      <td>74</td>\n",
              "    </tr>\n",
              "    <tr>\n",
              "      <th>3</th>\n",
              "      <td>USC00519397</td>\n",
              "      <td>2010-01-04</td>\n",
              "      <td>0.00</td>\n",
              "      <td>76</td>\n",
              "    </tr>\n",
              "    <tr>\n",
              "      <th>4</th>\n",
              "      <td>USC00519397</td>\n",
              "      <td>2010-01-06</td>\n",
              "      <td>NaN</td>\n",
              "      <td>73</td>\n",
              "    </tr>\n",
              "  </tbody>\n",
              "</table>\n",
              "</div>"
            ]
          },
          "metadata": {}
        }
      ],
      "execution_count": 4,
      "metadata": {
        "collapsed": false,
        "outputHidden": false,
        "inputHidden": false
      }
    },
    {
      "cell_type": "code",
      "source": [
        "sta = pd.read_csv(\"Resources/hawaii_stations.csv\")\n",
        "sta.head(3)"
      ],
      "outputs": [
        {
          "output_type": "execute_result",
          "execution_count": 5,
          "data": {
            "text/plain": [
              "       station                                    name  latitude  longitude  \\\n",
              "0  USC00519397                    WAIKIKI 717.2, HI US   21.2716  -157.8168   \n",
              "1  USC00513117                    KANEOHE 838.1, HI US   21.4234  -157.8015   \n",
              "2  USC00514830  KUALOA RANCH HEADQUARTERS 886.9, HI US   21.5213  -157.8374   \n",
              "\n",
              "   elevation  \n",
              "0        3.0  \n",
              "1       14.6  \n",
              "2        7.0  "
            ],
            "text/html": [
              "<div>\n",
              "<style>\n",
              "    .dataframe thead tr:only-child th {\n",
              "        text-align: right;\n",
              "    }\n",
              "\n",
              "    .dataframe thead th {\n",
              "        text-align: left;\n",
              "    }\n",
              "\n",
              "    .dataframe tbody tr th {\n",
              "        vertical-align: top;\n",
              "    }\n",
              "</style>\n",
              "<table border=\"1\" class=\"dataframe\">\n",
              "  <thead>\n",
              "    <tr style=\"text-align: right;\">\n",
              "      <th></th>\n",
              "      <th>station</th>\n",
              "      <th>name</th>\n",
              "      <th>latitude</th>\n",
              "      <th>longitude</th>\n",
              "      <th>elevation</th>\n",
              "    </tr>\n",
              "  </thead>\n",
              "  <tbody>\n",
              "    <tr>\n",
              "      <th>0</th>\n",
              "      <td>USC00519397</td>\n",
              "      <td>WAIKIKI 717.2, HI US</td>\n",
              "      <td>21.2716</td>\n",
              "      <td>-157.8168</td>\n",
              "      <td>3.0</td>\n",
              "    </tr>\n",
              "    <tr>\n",
              "      <th>1</th>\n",
              "      <td>USC00513117</td>\n",
              "      <td>KANEOHE 838.1, HI US</td>\n",
              "      <td>21.4234</td>\n",
              "      <td>-157.8015</td>\n",
              "      <td>14.6</td>\n",
              "    </tr>\n",
              "    <tr>\n",
              "      <th>2</th>\n",
              "      <td>USC00514830</td>\n",
              "      <td>KUALOA RANCH HEADQUARTERS 886.9, HI US</td>\n",
              "      <td>21.5213</td>\n",
              "      <td>-157.8374</td>\n",
              "      <td>7.0</td>\n",
              "    </tr>\n",
              "  </tbody>\n",
              "</table>\n",
              "</div>"
            ]
          },
          "metadata": {}
        }
      ],
      "execution_count": 5,
      "metadata": {
        "collapsed": false,
        "outputHidden": false,
        "inputHidden": false
      }
    },
    {
      "cell_type": "code",
      "source": [
        "# Count num obsv\n",
        "print(f\"Measurements: {meas.shape[0]} \\\n",
        "\\nStations: {sta.shape[0]}\")"
      ],
      "outputs": [
        {
          "output_type": "stream",
          "name": "stdout",
          "text": [
            "Measurements: 19550 \n",
            "Stations: 9\n"
          ]
        }
      ],
      "execution_count": 6,
      "metadata": {
        "collapsed": false,
        "outputHidden": false,
        "inputHidden": false
      }
    },
    {
      "cell_type": "code",
      "source": [
        "# Check NaNs\n",
        "sta.isnull().sum()\n",
        "meas.isnull().sum()"
      ],
      "outputs": [
        {
          "output_type": "execute_result",
          "execution_count": 7,
          "data": {
            "text/plain": [
              "station       0\n",
              "date          0\n",
              "prcp       1447\n",
              "tobs          0\n",
              "dtype: int64"
            ]
          },
          "metadata": {}
        }
      ],
      "execution_count": 7,
      "metadata": {
        "collapsed": false,
        "outputHidden": false,
        "inputHidden": false
      }
    },
    {
      "cell_type": "code",
      "source": [
        "# Check number of measurements per station\n",
        "meas_sta = meas.groupby(\"station\").count().sort_values(\"date\", ascending = False).reset_index()\n",
        "meas_sta.merge(sta, on = \"station\")\n",
        "# The station with the highest elevation also had the sparsest data - may be an outlier\n",
        "# May exclude Pearl City & Upper Wahiawa from precipitation analyses because of higher % missing data"
      ],
      "outputs": [
        {
          "output_type": "execute_result",
          "execution_count": 8,
          "data": {
            "text/plain": [
              "       station  date  prcp  tobs                                    name  \\\n",
              "0  USC00519281  2772  2772  2772                     WAIHEE 837.5, HI US   \n",
              "1  USC00519397  2724  2685  2724                    WAIKIKI 717.2, HI US   \n",
              "2  USC00513117  2709  2696  2709                    KANEOHE 838.1, HI US   \n",
              "3  USC00519523  2669  2572  2669      WAIMANALO EXPERIMENTAL FARM, HI US   \n",
              "4  USC00516128  2612  2484  2612            MANOA LYON ARBO 785.2, HI US   \n",
              "5  USC00514830  2202  1937  2202  KUALOA RANCH HEADQUARTERS 886.9, HI US   \n",
              "6  USC00511918  1979  1932  1979       HONOLULU OBSERVATORY 702.2, HI US   \n",
              "7  USC00517948  1372   683  1372                       PEARL CITY, HI US   \n",
              "8  USC00518838   511   342   511              UPPER WAHIAWA 874.3, HI US   \n",
              "\n",
              "   latitude  longitude  elevation  \n",
              "0  21.45167 -157.84889       32.9  \n",
              "1  21.27160 -157.81680        3.0  \n",
              "2  21.42340 -157.80150       14.6  \n",
              "3  21.33556 -157.71139       19.5  \n",
              "4  21.33310 -157.80250      152.4  \n",
              "5  21.52130 -157.83740        7.0  \n",
              "6  21.31520 -157.99920        0.9  \n",
              "7  21.39340 -157.97510       11.9  \n",
              "8  21.49920 -158.01110      306.6  "
            ],
            "text/html": [
              "<div>\n",
              "<style>\n",
              "    .dataframe thead tr:only-child th {\n",
              "        text-align: right;\n",
              "    }\n",
              "\n",
              "    .dataframe thead th {\n",
              "        text-align: left;\n",
              "    }\n",
              "\n",
              "    .dataframe tbody tr th {\n",
              "        vertical-align: top;\n",
              "    }\n",
              "</style>\n",
              "<table border=\"1\" class=\"dataframe\">\n",
              "  <thead>\n",
              "    <tr style=\"text-align: right;\">\n",
              "      <th></th>\n",
              "      <th>station</th>\n",
              "      <th>date</th>\n",
              "      <th>prcp</th>\n",
              "      <th>tobs</th>\n",
              "      <th>name</th>\n",
              "      <th>latitude</th>\n",
              "      <th>longitude</th>\n",
              "      <th>elevation</th>\n",
              "    </tr>\n",
              "  </thead>\n",
              "  <tbody>\n",
              "    <tr>\n",
              "      <th>0</th>\n",
              "      <td>USC00519281</td>\n",
              "      <td>2772</td>\n",
              "      <td>2772</td>\n",
              "      <td>2772</td>\n",
              "      <td>WAIHEE 837.5, HI US</td>\n",
              "      <td>21.45167</td>\n",
              "      <td>-157.84889</td>\n",
              "      <td>32.9</td>\n",
              "    </tr>\n",
              "    <tr>\n",
              "      <th>1</th>\n",
              "      <td>USC00519397</td>\n",
              "      <td>2724</td>\n",
              "      <td>2685</td>\n",
              "      <td>2724</td>\n",
              "      <td>WAIKIKI 717.2, HI US</td>\n",
              "      <td>21.27160</td>\n",
              "      <td>-157.81680</td>\n",
              "      <td>3.0</td>\n",
              "    </tr>\n",
              "    <tr>\n",
              "      <th>2</th>\n",
              "      <td>USC00513117</td>\n",
              "      <td>2709</td>\n",
              "      <td>2696</td>\n",
              "      <td>2709</td>\n",
              "      <td>KANEOHE 838.1, HI US</td>\n",
              "      <td>21.42340</td>\n",
              "      <td>-157.80150</td>\n",
              "      <td>14.6</td>\n",
              "    </tr>\n",
              "    <tr>\n",
              "      <th>3</th>\n",
              "      <td>USC00519523</td>\n",
              "      <td>2669</td>\n",
              "      <td>2572</td>\n",
              "      <td>2669</td>\n",
              "      <td>WAIMANALO EXPERIMENTAL FARM, HI US</td>\n",
              "      <td>21.33556</td>\n",
              "      <td>-157.71139</td>\n",
              "      <td>19.5</td>\n",
              "    </tr>\n",
              "    <tr>\n",
              "      <th>4</th>\n",
              "      <td>USC00516128</td>\n",
              "      <td>2612</td>\n",
              "      <td>2484</td>\n",
              "      <td>2612</td>\n",
              "      <td>MANOA LYON ARBO 785.2, HI US</td>\n",
              "      <td>21.33310</td>\n",
              "      <td>-157.80250</td>\n",
              "      <td>152.4</td>\n",
              "    </tr>\n",
              "    <tr>\n",
              "      <th>5</th>\n",
              "      <td>USC00514830</td>\n",
              "      <td>2202</td>\n",
              "      <td>1937</td>\n",
              "      <td>2202</td>\n",
              "      <td>KUALOA RANCH HEADQUARTERS 886.9, HI US</td>\n",
              "      <td>21.52130</td>\n",
              "      <td>-157.83740</td>\n",
              "      <td>7.0</td>\n",
              "    </tr>\n",
              "    <tr>\n",
              "      <th>6</th>\n",
              "      <td>USC00511918</td>\n",
              "      <td>1979</td>\n",
              "      <td>1932</td>\n",
              "      <td>1979</td>\n",
              "      <td>HONOLULU OBSERVATORY 702.2, HI US</td>\n",
              "      <td>21.31520</td>\n",
              "      <td>-157.99920</td>\n",
              "      <td>0.9</td>\n",
              "    </tr>\n",
              "    <tr>\n",
              "      <th>7</th>\n",
              "      <td>USC00517948</td>\n",
              "      <td>1372</td>\n",
              "      <td>683</td>\n",
              "      <td>1372</td>\n",
              "      <td>PEARL CITY, HI US</td>\n",
              "      <td>21.39340</td>\n",
              "      <td>-157.97510</td>\n",
              "      <td>11.9</td>\n",
              "    </tr>\n",
              "    <tr>\n",
              "      <th>8</th>\n",
              "      <td>USC00518838</td>\n",
              "      <td>511</td>\n",
              "      <td>342</td>\n",
              "      <td>511</td>\n",
              "      <td>UPPER WAHIAWA 874.3, HI US</td>\n",
              "      <td>21.49920</td>\n",
              "      <td>-158.01110</td>\n",
              "      <td>306.6</td>\n",
              "    </tr>\n",
              "  </tbody>\n",
              "</table>\n",
              "</div>"
            ]
          },
          "metadata": {}
        }
      ],
      "execution_count": 8,
      "metadata": {
        "collapsed": false,
        "outputHidden": false,
        "inputHidden": false
      }
    },
    {
      "cell_type": "code",
      "source": [
        "meas_sta_full = meas.merge(sta, on = \"station\")"
      ],
      "outputs": [],
      "execution_count": 9,
      "metadata": {
        "collapsed": false,
        "outputHidden": false,
        "inputHidden": false
      }
    },
    {
      "cell_type": "code",
      "source": [
        "# Save to csvs\n",
        "meas.reset_index().to_csv(\"data/clean_measurements.csv\", index = False)\n",
        "sta.reset_index().to_csv(\"data/clean_stations.csv\", index = False)"
      ],
      "outputs": [],
      "execution_count": 14,
      "metadata": {
        "collapsed": false,
        "outputHidden": false,
        "inputHidden": false
      }
    }
  ],
  "metadata": {
    "kernelspec": {
      "name": "python3",
      "language": "python",
      "display_name": "Python 3"
    },
    "kernel_info": {
      "name": "python3"
    },
    "language_info": {
      "name": "python",
      "version": "3.6.1",
      "mimetype": "text/x-python",
      "codemirror_mode": {
        "name": "ipython",
        "version": 3
      },
      "pygments_lexer": "ipython3",
      "nbconvert_exporter": "python",
      "file_extension": ".py"
    },
    "nteract": {
      "version": "0.6.2"
    }
  },
  "nbformat": 4,
  "nbformat_minor": 4
}